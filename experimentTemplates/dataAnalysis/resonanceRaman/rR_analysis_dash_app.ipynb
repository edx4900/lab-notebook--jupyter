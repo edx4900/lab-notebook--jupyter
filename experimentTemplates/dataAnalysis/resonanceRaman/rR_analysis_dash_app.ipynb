{
 "cells": [
  {
   "cell_type": "markdown",
   "metadata": {},
   "source": [
    "# rR processing and visualization app:"
   ]
  },
  {
   "cell_type": "code",
   "execution_count": null,
   "metadata": {},
   "outputs": [],
   "source": [
    "# run dash app\n",
    "# import sys\n",
    "# sys.path.append(\"/Users/eleanordunietz/Desktop/Stanford/pythonScripts/data_analysis_scripts/stopped_flow/fitting_dash\")\n",
    "from rR_dash import *\n",
    "\n",
    "run_dash()"
   ]
  },
  {
   "cell_type": "markdown",
   "metadata": {},
   "source": []
  }
 ],
 "metadata": {
  "language_info": {
   "name": "python"
  }
 },
 "nbformat": 4,
 "nbformat_minor": 2
}
