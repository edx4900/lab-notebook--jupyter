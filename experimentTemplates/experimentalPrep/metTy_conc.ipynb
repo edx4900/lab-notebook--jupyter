{
 "cells": [
  {
   "cell_type": "markdown",
   "metadata": {},
   "source": [
    "# metTy concentration assay:\n",
    "- **Materials:**\n",
    "    - 1 mL of 1 mM H2O2"
   ]
  },
  {
   "cell_type": "code",
   "execution_count": 1,
   "metadata": {
    "notebookRunGroups": {
     "groupValue": "1"
    }
   },
   "outputs": [
    {
     "name": "stdout",
     "output_type": "stream",
     "text": [
      "Concentration Results:\n",
      "[Ty] total (mM): 0.44\n",
      "Estimated [metTy](uM): 371.88\n",
      "[deoxyTy] (uM): 143.50\n",
      "Calculated [metTy] (uM): 294.00\n"
     ]
    }
   ],
   "source": [
    "import sys\n",
    "from pathlib import Path\n",
    "# Calculate the relative path from the current directory (templates) to pythonScripts\n",
    "relative_path_to_python_scripts = Path('../../../../../pythonScripts')\n",
    "sys.path.append(str(relative_path_to_python_scripts.resolve()))\n",
    "from metTy_conc import *\n",
    "\n",
    "A350_H2O2 = 0.21 # Absorbance of Ty in 1 mM H2O2 at 350 nm.\n",
    "A350_O2 = 0.0574 # Absorbance of Ty in O2 at 350 nm.\n",
    "dilution_uL_H2O2 = 6 # of uL of Ty solution were added to H2O2 solution (out of 200 total uL (range of 5-20))\n",
    "dilution_uL_O2 = 5 # of uL of Ty solution were added to H2O2 solution (out of 200 total uL (range of 5-20))\n",
    "\n",
    "# Call the concentration calculator and store the results\n",
    "concentration_results = met_calc_conc(A350_H2O2, A350_O2, dilution_uL_H2O2, dilution_uL_O2)"
   ]
  },
  {
   "cell_type": "code",
   "execution_count": 2,
   "metadata": {
    "notebookRunGroups": {
     "groupValue": "1"
    }
   },
   "outputs": [
    {
     "name": "stdout",
     "output_type": "stream",
     "text": [
      "Dilution Protocol:\n",
      "1. Add 1020.41 uL of enzyme solution.\n",
      "2. Add 1.98 mL of solvent.\n",
      "3. Mix to reach a final volume of 3 mL.\n"
     ]
    }
   ],
   "source": [
    "target_concentration_uM = 100  # target [metTy] in uM\n",
    "final_volume_ml = 3          # target final volume in mL\n",
    "\n",
    "# Call the function using the calculated metTy concentration\n",
    "dilution_volumes = dilute_to_target(concentration_results['Calculated [metTy] (uM)'], \n",
    "                                    target_concentration_uM, final_volume_ml)"
   ]
  }
 ],
 "metadata": {
  "kernelspec": {
   "display_name": ".venv",
   "language": "python",
   "name": "python3"
  },
  "language_info": {
   "codemirror_mode": {
    "name": "ipython",
    "version": 3
   },
   "file_extension": ".py",
   "mimetype": "text/x-python",
   "name": "python",
   "nbconvert_exporter": "python",
   "pygments_lexer": "ipython3",
   "version": "3.11.1"
  }
 },
 "nbformat": 4,
 "nbformat_minor": 2
}
