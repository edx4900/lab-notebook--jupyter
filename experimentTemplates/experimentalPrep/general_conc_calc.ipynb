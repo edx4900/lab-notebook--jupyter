{
 "cells": [
  {
   "cell_type": "markdown",
   "metadata": {},
   "source": [
    "# general concentration calculator"
   ]
  },
  {
   "cell_type": "code",
   "execution_count": 1,
   "metadata": {},
   "outputs": [
    {
     "name": "stdout",
     "output_type": "stream",
     "text": [
      "To prepare 10 mL of 1 mM Glucose solution:\n",
      "1. Weigh out 1.80 mg of Glucose.\n",
      "2. Dissolve the compound in a volume of deionized water slightly less than the final volume.\n",
      "3. Once fully dissolved, adjust the solution to the final desired volume with deionized water.\n"
     ]
    }
   ],
   "source": [
    "import sys\n",
    "from pathlib import Path\n",
    "# Calculate the relative path from the current directory (templates) to pythonScripts\n",
    "relative_path_to_python_scripts = Path('../../../../../pythonScripts')\n",
    "sys.path.append(str(relative_path_to_python_scripts.resolve()))\n",
    "from conc_calc import *\n",
    "\n",
    "concentration = '1 mM' # Desired concentration (e.g., '1 mM'), supports uM, mM, M.\n",
    "Mw = 180.16 # Molecular weight of compound (g/mol), e.g., glucose: 180.16 g/mol.\n",
    "target_volume = '10 mL' # Target volume of solution (e.g., '10 mL'), supports mL, L.\n",
    "chemical_name = 'Glucose' # Name of the chemical for the protocol.\n",
    "protocol = concentration_calculator(concentration, Mw, target_volume, chemical_name)\n",
    "print(protocol)"
   ]
  }
 ],
 "metadata": {
  "kernelspec": {
   "display_name": ".venv",
   "language": "python",
   "name": "python3"
  },
  "language_info": {
   "codemirror_mode": {
    "name": "ipython",
    "version": 3
   },
   "file_extension": ".py",
   "mimetype": "text/x-python",
   "name": "python",
   "nbconvert_exporter": "python",
   "pygments_lexer": "ipython3",
   "version": "3.11.1"
  }
 },
 "nbformat": 4,
 "nbformat_minor": 2
}
