{
 "cells": [
  {
   "cell_type": "markdown",
   "metadata": {},
   "source": [
    "# substrate dilution calculator"
   ]
  },
  {
   "cell_type": "code",
   "execution_count": 1,
   "metadata": {},
   "outputs": [],
   "source": [
    "import sys\n",
    "from pathlib import Path\n",
    "relative_path_to_python_scripts = Path('../../../../../pythonScripts')\n",
    "sys.path.append(str(relative_path_to_python_scripts.resolve()))\n",
    "from substrate_dilutions import *"
   ]
  },
  {
   "cell_type": "code",
   "execution_count": 2,
   "metadata": {},
   "outputs": [
    {
     "data": {
      "text/html": [
       "<table border=\"1\" class=\"dataframe\">\n",
       "  <thead>\n",
       "    <tr style=\"text-align: right;\">\n",
       "      <th>Concentration (mM)</th>\n",
       "      <th>Buffer volume (mL)</th>\n",
       "      <th>Stock volume (mL)</th>\n",
       "      <th>Total volume (mL)</th>\n",
       "    </tr>\n",
       "  </thead>\n",
       "  <tbody>\n",
       "    <tr>\n",
       "      <td>4</td>\n",
       "      <td>1.11</td>\n",
       "      <td>0.89</td>\n",
       "      <td>2.00</td>\n",
       "    </tr>\n",
       "    <tr>\n",
       "      <td>9</td>\n",
       "      <td>1.03</td>\n",
       "      <td>1.86</td>\n",
       "      <td>2.89</td>\n",
       "    </tr>\n",
       "    <tr>\n",
       "      <td>14</td>\n",
       "      <td>0.86</td>\n",
       "      <td>3.00</td>\n",
       "      <td>3.86</td>\n",
       "    </tr>\n",
       "  </tbody>\n",
       "</table>"
      ],
      "text/plain": [
       "<IPython.core.display.HTML object>"
      ]
     },
     "execution_count": 2,
     "metadata": {},
     "output_type": "execute_result"
    },
    {
     "name": "stdout",
     "output_type": "stream",
     "text": [
      "\n",
      "Molecular Weight (g/mol): 168.15\n",
      "Stock Concentration (mM): 18\n",
      "Stock Volume (mL): 10.0\n",
      "Mass (mg): 30.27\n",
      "\n",
      "Dilution Protocol Instructions:\n",
      "\n",
      "Step 1:\n",
      "  - Prepare stock solution (18 mM)\n",
      "  - Weigh 30.27 mg of 4MEC.\n",
      "  - Dissolve in  10.0 mL.\n",
      "  - Filter with 0.2 micron syringe filter.\n",
      "\n",
      "Step 2:\n",
      "  - Prepare 3.86 mL of 14.0 mM solution.\n",
      "  - Add 3.0 mL of previous stock solution.\n",
      "  - Add 0.86 mL of buffer to reach the total volume.\n",
      "  - Mix thoroughly.\n",
      "\n",
      "Step 3:\n",
      "  - Prepare 2.89 mL of 9.0 mM solution.\n",
      "  - Add 1.86 mL of previous stock solution.\n",
      "  - Add 1.03 mL of buffer to reach the total volume.\n",
      "  - Mix thoroughly.\n",
      "\n",
      "Step 4:\n",
      "  - Prepare 2.0 mL of 4.0 mM solution.\n",
      "  - Add 0.89 mL of previous stock solution.\n",
      "  - Add 1.11 mL of buffer to reach the total volume.\n",
      "  - Mix thoroughly.\n",
      "\n"
     ]
    }
   ],
   "source": [
    "substrate_name = \"4MEC\"  # Enter name or abbreviation for substrate\n",
    "stock_conc = 18  # Enter stock concentration (in mM)\n",
    "mw = 168.15  # Enter molecular weight\n",
    "og_stock_vol = 10.0  # Enter stock volume (in mL)\n",
    "target_conc = [4, 9, 14]  # Enter target concentrations (in mM) - premix\n",
    "target_vol = 2  # Enter target volume of dilutions (in mL)\n",
    "\n",
    "# calculate substrate dilutions\n",
    "dilutions(substrate_name, stock_conc, target_conc, target_vol, og_stock_vol, mw)"
   ]
  }
 ],
 "metadata": {
  "kernelspec": {
   "display_name": ".venv",
   "language": "python",
   "name": "python3"
  },
  "language_info": {
   "codemirror_mode": {
    "name": "ipython",
    "version": 3
   },
   "file_extension": ".py",
   "mimetype": "text/x-python",
   "name": "python",
   "nbconvert_exporter": "python",
   "pygments_lexer": "ipython3",
   "version": "3.11.1"
  }
 },
 "nbformat": 4,
 "nbformat_minor": 2
}
