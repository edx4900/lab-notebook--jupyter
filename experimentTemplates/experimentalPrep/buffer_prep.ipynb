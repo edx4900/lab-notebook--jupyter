{
 "cells": [
  {
   "cell_type": "markdown",
   "metadata": {},
   "source": [
    "# buffer preparation calculator"
   ]
  },
  {
   "cell_type": "code",
   "execution_count": 1,
   "metadata": {},
   "outputs": [
    {
     "name": "stdout",
     "output_type": "stream",
     "text": [
      "To prepare 1000 mL of 0.1 M CHES buffer at pH 9:\n",
      "1. Add 20.73 g of CHES to the solution.\n",
      "2. Adjust the pH to 9 by adding 2.04 mL of 8 M NaOH.\n",
      "\n"
     ]
    }
   ],
   "source": [
    "# enter experimental values below:\n",
    "import sys\n",
    "from pathlib import Path\n",
    "# Calculate the relative path from the current directory (templates) to pythonScripts\n",
    "relative_path_to_python_scripts = Path('../../../../../pythonScripts')\n",
    "sys.path.append(str(relative_path_to_python_scripts.resolve()))\n",
    "from buffer_calc import *\n",
    "\n",
    "buffer_type = 'CHES'\n",
    "total_volume_ml = 1000 # Enter final volume of buffer\n",
    "conc_buffer = 0.1 # Enter the desired concentration of buffer\n",
    "pH = 9 # Enter desired pH of buffer solution\n",
    "temp_C = 4 # Enter the emperature at which the buffer will be used\n",
    "NaOH_concentration_M = 8 # Concentration of NaOH stock solution that will be used to adjust pH\n",
    "\n",
    "protocol = buffer_calculator(buffer_type, pH, total_volume_ml, conc_buffer, temp_C, NaOH_concentration_M)"
   ]
  }
 ],
 "metadata": {
  "kernelspec": {
   "display_name": ".venv",
   "language": "python",
   "name": "python3"
  },
  "language_info": {
   "codemirror_mode": {
    "name": "ipython",
    "version": 3
   },
   "file_extension": ".py",
   "mimetype": "text/x-python",
   "name": "python",
   "nbconvert_exporter": "python",
   "pygments_lexer": "ipython3",
   "version": "3.11.1"
  }
 },
 "nbformat": 4,
 "nbformat_minor": 2
}
