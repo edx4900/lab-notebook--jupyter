{
 "cells": [
  {
   "cell_type": "markdown",
   "id": "82a57bbc",
   "metadata": {},
   "source": [
    "[Back to Experiment Hub](../../../experimentHub.ipynb)\n",
    "# example of experiment template \n",
    "**Hypothesis:**"
   ]
  },
  {
   "cell_type": "markdown",
   "id": "4ba682de",
   "metadata": {},
   "source": [
    "## Materials\n",
    "\n",
    "Materials | Cas # | Location | Molecular weight (g/mol)\n",
    "---------|----------|---------|---"
   ]
  },
  {
   "cell_type": "markdown",
   "id": "8197f892",
   "metadata": {},
   "source": [
    "## Method\n",
    "Describe the method here."
   ]
  },
  {
   "cell_type": "markdown",
   "id": "5bed05e7",
   "metadata": {},
   "source": [
    "## Analysis\n",
    "Write your analysis plan here."
   ]
  },
  {
   "cell_type": "markdown",
   "id": "0f862a61",
   "metadata": {},
   "source": [
    "## Results\n",
    "Document your results here."
   ]
  },
  {
   "cell_type": "markdown",
   "id": "211de7a4",
   "metadata": {},
   "source": [
    "## Conclusion\n",
    "Summarize the conclusions here."
   ]
  }
 ],
 "metadata": {},
 "nbformat": 4,
 "nbformat_minor": 5
}
