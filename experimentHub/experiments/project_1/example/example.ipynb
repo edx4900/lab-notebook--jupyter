{
 "cells": [
  {
   "cell_type": "markdown",
   "id": "828fa513",
   "metadata": {},
   "source": [
    "[Back to Experiment Hub](../../../experimentHub.ipynb)\n",
    "# example of experiment template\n",
    "**Hypothesis:**"
   ]
  },
  {
   "cell_type": "markdown",
   "id": "114818e3",
   "metadata": {},
   "source": [
    "## Materials\n",
    "\n",
    "Materials | Cas # | Location | Molecular weight (g/mol)\n",
    "---------|----------|---------|---"
   ]
  },
  {
   "cell_type": "markdown",
   "id": "eecbafe8",
   "metadata": {},
   "source": [
    "## Method\n",
    "Describe the method here."
   ]
  },
  {
   "cell_type": "markdown",
   "id": "5e9ae136",
   "metadata": {},
   "source": [
    "## Analysis\n",
    "Write your analysis plan here."
   ]
  },
  {
   "cell_type": "markdown",
   "id": "cde99e5b",
   "metadata": {},
   "source": [
    "## Results\n",
    "Document your results here."
   ]
  },
  {
   "cell_type": "markdown",
   "id": "03408f19",
   "metadata": {},
   "source": [
    "## Conclusion\n",
    "Summarize the conclusions here."
   ]
  }
 ],
 "metadata": {
  "language_info": {
   "name": "python"
  }
 },
 "nbformat": 4,
 "nbformat_minor": 5
}
